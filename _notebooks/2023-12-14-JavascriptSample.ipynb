{
 "cells": [
  {
   "cell_type": "markdown",
   "metadata": {},
   "source": [
    "---\n",
    "comments: true\n",
    "layout: post\n",
    "title: Test JS IPYNB\n",
    "description: Test of IPYNB notebook in the in-class lecture.\n",
    "type: posts\n",
    "courses: { compsci: {week: 3} }\n",
    "---"
   ]
  },
  {
   "cell_type": "code",
   "execution_count": 8,
   "metadata": {},
   "outputs": [
    {
     "data": {
      "application/javascript": "\n// assign variable\nvar intro = \"My name is:\";\nconsole.log(\"variable: intro\")\nconsole.log(intro)\n\n// seeing the type of this data\nconsole.log(\"variable: intro check typeof\")\nconsole.log(typeof intro)\n\n// add strings together\nconsole.log(\"string concatenation: intro + Anvay!\")\nconsole.log(intro + \" Anvay!\")\n",
      "text/plain": [
       "<IPython.core.display.Javascript object>"
      ]
     },
     "metadata": {},
     "output_type": "display_data"
    }
   ],
   "source": [
    "%%js\n",
    "\n",
    "// assign variable\n",
    "var intro = \"My name is:\";\n",
    "console.log(\"variable: intro\")\n",
    "console.log(intro)\n",
    "\n",
    "// seeing the type of this data\n",
    "console.log(\"variable: intro check typeof\")\n",
    "console.log(typeof intro)\n",
    "\n",
    "// add strings together\n",
    "console.log(\"string concatenation: intro + Anvay!\")\n",
    "console.log(intro + \" Anvay!\")"
   ]
  },
  {
   "cell_type": "code",
   "execution_count": 11,
   "metadata": {},
   "outputs": [
    {
     "data": {
      "application/javascript": "\nvar printProblem = \"Here is the current math problem:\"\n\nvar num1 = 10\nvar num2 = 2\n\nconsole.log(printProblem + \" \" + num1 + \" / \" + num2 + \" = \" + num1 / num2)\n",
      "text/plain": [
       "<IPython.core.display.Javascript object>"
      ]
     },
     "metadata": {},
     "output_type": "display_data"
    }
   ],
   "source": [
    "%%js\n",
    "\n",
    "var printProblem = \"Here is the current math problem:\"\n",
    "\n",
    "var num1 = 10\n",
    "var num2 = 2\n",
    "\n",
    "console.log(printProblem + \" \" + num1 + \" / \" + num2 + \" = \" + num1 / num2)"
   ]
  }
 ],
 "metadata": {
  "kernelspec": {
   "display_name": "Python 3",
   "language": "python",
   "name": "python3"
  },
  "language_info": {
   "codemirror_mode": {
    "name": "ipython",
    "version": 3
   },
   "file_extension": ".py",
   "mimetype": "text/x-python",
   "name": "python",
   "nbconvert_exporter": "python",
   "pygments_lexer": "ipython3",
   "version": "3.10.12"
  }
 },
 "nbformat": 4,
 "nbformat_minor": 2
}
